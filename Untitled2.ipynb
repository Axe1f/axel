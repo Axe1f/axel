{
  "nbformat": 4,
  "nbformat_minor": 0,
  "metadata": {
    "colab": {
      "provenance": [],
      "authorship_tag": "ABX9TyM0JZ31yQOSkpIsP73H8ent",
      "include_colab_link": true
    },
    "kernelspec": {
      "name": "python3",
      "display_name": "Python 3"
    },
    "language_info": {
      "name": "python"
    }
  },
  "cells": [
    {
      "cell_type": "markdown",
      "metadata": {
        "id": "view-in-github",
        "colab_type": "text"
      },
      "source": [
        "<a href=\"https://colab.research.google.com/github/Axe1f/axel/blob/master/Untitled2.ipynb\" target=\"_parent\"><img src=\"https://colab.research.google.com/assets/colab-badge.svg\" alt=\"Open In Colab\"/></a>"
      ]
    },
    {
      "cell_type": "code",
      "execution_count": 5,
      "metadata": {
        "colab": {
          "base_uri": "https://localhost:8080/"
        },
        "id": "AQwitIBqEsYp",
        "outputId": "35346a4e-f2b0-4076-fd7f-1251a2a4fe58"
      },
      "outputs": [
        {
          "output_type": "stream",
          "name": "stdout",
          "text": [
            "Requirement already satisfied: qrcode in /usr/local/lib/python3.10/dist-packages (7.4.2)\n",
            "Requirement already satisfied: typing-extensions in /usr/local/lib/python3.10/dist-packages (from qrcode) (4.11.0)\n",
            "Requirement already satisfied: pypng in /usr/local/lib/python3.10/dist-packages (from qrcode) (0.20220715.0)\n"
          ]
        }
      ],
      "source": [
        "!pip install qrcode\n",
        "import qrcode\n",
        "from qrcode.image.styledpil import StyledPilImage\n",
        "from qrcode.image.styles.moduledrawers.pil import CircleModuleDrawer\n",
        "\n",
        "qr = qrcode.QRCode(error_correction=qrcode.constants.ERROR_CORRECT_L)\n",
        "qr.add_data('Барбамбея кергуду!')\n",
        "img_0 = qr.make_image(image_factory=StyledPilImage, module_drawer=CircleModuleDrawer())\n",
        "img_0.save(\"img0.png\")"
      ]
    }
  ]
}